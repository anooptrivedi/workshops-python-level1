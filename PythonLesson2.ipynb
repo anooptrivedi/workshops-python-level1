{
 "cells": [
  {
   "cell_type": "markdown",
   "metadata": {},
   "source": [
    "# Lesson - 2 : Working with Python\n",
    "\n",
    "# String, Integers, Booleans, List, Tuple, and Dictionaries\n",
    "\n",
    "# Let's recap few of the concepts."
   ]
  },
  {
   "cell_type": "code",
   "execution_count": null,
   "metadata": {
    "collapsed": true
   },
   "outputs": [],
   "source": [
    "a = 1\n",
    "b = 2\n",
    "a > b"
   ]
  },
  {
   "cell_type": "code",
   "execution_count": null,
   "metadata": {},
   "outputs": [],
   "source": [
    "\"Hello\" is not \"World\""
   ]
  },
  {
   "cell_type": "code",
   "execution_count": null,
   "metadata": {},
   "outputs": [],
   "source": [
    "\"Hello\" != \"Hello\""
   ]
  },
  {
   "cell_type": "code",
   "execution_count": null,
   "metadata": {},
   "outputs": [],
   "source": [
    "for index in range(10):\n",
    "    print(\"Ice Cream\", index)"
   ]
  },
  {
   "cell_type": "code",
   "execution_count": null,
   "metadata": {},
   "outputs": [],
   "source": [
    "1 > 2 and 3 > 2"
   ]
  },
  {
   "cell_type": "code",
   "execution_count": null,
   "metadata": {},
   "outputs": [],
   "source": [
    "-3 < -2 or 1 > 2"
   ]
  },
  {
   "cell_type": "code",
   "execution_count": null,
   "metadata": {},
   "outputs": [],
   "source": [
    "# List example\n",
    "\n",
    "shoppingList = [\"Apples\",\"Bananas\",\"Oranges\"]\n",
    "\n",
    "print(shoppingList)\n",
    "print(shoppingList[0])\n",
    "print(shoppingList[2])\n",
    "\n",
    "shoppingList.append(\"Grapes\")\n",
    "print(shoppingList)\n",
    "\n",
    "shoppingList.sort()\n",
    "print(shoppingList)\n"
   ]
  },
  {
   "cell_type": "code",
   "execution_count": null,
   "metadata": {},
   "outputs": [],
   "source": [
    "# Tuple\n",
    "\n",
    "cities = (\"San Francisco\", \"Dallas\", \"New York\")\n",
    "\n",
    "print(cities)\n",
    "print(cities[0])\n",
    "print(cities[2])\n",
    "\n",
    "# uncomment and try below instruction, it should give you an error\n",
    "# because tuples are immutable, once set, cannot be changed - constant\n",
    "\n",
    "#cities.append(\"Miami\")"
   ]
  },
  {
   "cell_type": "code",
   "execution_count": null,
   "metadata": {},
   "outputs": [],
   "source": [
    "# Dictionaries\n",
    "\n",
    "contacts = {\"Anoop\" : \"San Jose\", \"John\" : \"San Francisco\", \"Adam\" : \"New York\"}\n",
    "\n",
    "print(contacts)\n",
    "print(contacts.items())\n",
    "print(contacts.keys())\n",
    "\n",
    "for name in contacts:\n",
    "    print(name)\n",
    "    \n",
    "for city in contacts.values():\n",
    "    print(city)\n",
    "    \n",
    "for name, city in contacts.items():\n",
    "    print(name, \"lives in\", city)"
   ]
  },
  {
   "cell_type": "code",
   "execution_count": null,
   "metadata": {},
   "outputs": [],
   "source": [
    "# if then else statements - understand code debugging!\n",
    "\n",
    "x = 4\n",
    "y = 16\n",
    "z = 8\n",
    "\n",
    "if( x > y) and (x > z):\n",
    "    print(\"x is the largest number\")\n",
    "elif(y > x) and (y > z):\n",
    "    print(\"y is the largest number\")\n",
    "elif(x == y) or (y == z) or (z == x):\n",
    "    print(\"two or more numbers are equal\")\n",
    "else:\n",
    "    print(\"z is the largest number\")"
   ]
  },
  {
   "cell_type": "code",
   "execution_count": null,
   "metadata": {},
   "outputs": [],
   "source": [
    "# Travel game, find the city user can fly to, working with tuples and dictionaries\n",
    "\n",
    "import random\n",
    "\n",
    "# constant list of cities\n",
    "cities = (\"San Francisco\", \"Dallas\", \"Chicago\")\n",
    "\n",
    "# transit dictionary - name/value pairs\n",
    "transit = {\n",
    "    \"San Francisco\" : (\"Chicago\",),\n",
    "    \"Chicago\" : (\"Dallas\",),\n",
    "    \"Dallas\" : (\"San Francisco\", \"Chicago\",),\n",
    "}\n",
    "\n",
    "city = random.choice(cities)\n",
    "\n",
    "while True:\n",
    "    print(\"You are currently in\", city)\n",
    "    routes = transit[city]\n",
    "    print(\"From here you can travel to\", ', '.join(routes))\n",
    "    newroute = input(\"Where would you like to go today? \")\n",
    "\n",
    "    if(newroute == \"quit\"):\n",
    "        print(\"Thank you for playing\")\n",
    "        break\n",
    "    elif(newroute in routes):\n",
    "        city = newroute\n",
    "    else:\n",
    "        print(\"You cannot travel there, please try again!\")"
   ]
  },
  {
   "cell_type": "code",
   "execution_count": null,
   "metadata": {},
   "outputs": [],
   "source": [
    "# functions in Python!, basic math calculator\n",
    "\n",
    "def add(num1, num2):\n",
    "    return num1+num2\n",
    "def sub(num1, num2):\n",
    "    return num1-num2\n",
    "def mult(num1, num2):\n",
    "    return num1*num2\n",
    "def div(num1, num2):\n",
    "    return num1/num2\n",
    "def power(num1, num2):\n",
    "    return(num1**num2)\n",
    "def remainder(num1, num2):\n",
    "    return(num1 % num2)\n",
    "def quotient(num1, num2):\n",
    "    return(num1 // num2)\n",
    "\n",
    "\n",
    "print(add(4,5))\n",
    "print(sub(4,5))\n",
    "print(mult(4,5))\n",
    "print(div(4,5))\n",
    "print(power(4,5))\n",
    "print(remainder(4,5))\n",
    "print(quotient(28,7))\n",
    "    "
   ]
  },
  {
   "cell_type": "code",
   "execution_count": null,
   "metadata": {},
   "outputs": [],
   "source": [
    "import turtle, time, math\n",
    "\n",
    "\n",
    "def drawStar(star):\n",
    "    star.pencolor(\"red\")\n",
    "\n",
    "    for x in range(1, 38):\n",
    "        star.forward(100)\n",
    "        star.left(175)\n",
    "\n",
    "def drawFlower(flower):\n",
    "    flower.pencolor(\"white\")\n",
    "    \n",
    "    flower.penup()\n",
    "    flower.setx(100)\n",
    "    flower.sety(100)\n",
    "    flower.pendown()\n",
    "    \n",
    "    for angle in range(0, 360, 15):\n",
    "        flower.seth(angle)\n",
    "        flower.circle(20)\n",
    "\n",
    "def drawWrite(words):\n",
    "    \n",
    "    words.penup()\n",
    "    words.setpos(-300.00,200.00)\n",
    "    words.pendown()\n",
    "    \n",
    "    words.pencolor(\"blue\")\n",
    "    words.write ('Hello Anoop!', font = ('Times New Roman', 36, 'bold'))\n",
    "\n",
    "def demo():\n",
    "\n",
    "    win = turtle.Screen()\n",
    "    win.title(\"My Turtle Example\")\n",
    "    win.bgcolor(\"black\")\n",
    "    \n",
    "    myturtle = turtle.Turtle()\n",
    "    \n",
    "    drawStar(myturtle)        \n",
    "    drawFlower(myturtle)    \n",
    "    drawWrite(myturtle)\n",
    "    \n",
    "    win.mainloop()\n",
    "\n",
    "demo()"
   ]
  },
  {
   "cell_type": "code",
   "execution_count": null,
   "metadata": {},
   "outputs": [],
   "source": [
    "# Classes\n",
    "\n",
    "class Shape:\n",
    "\n",
    "    def clear(self):\n",
    "        print(\"Clearing canvas\")\n",
    "\n",
    "class Circle(Shape):\n",
    "    def draw(self):\n",
    "        print(\"Drawing Circle\")\n",
    "\n",
    "class Polygon(Shape):\n",
    "    def draw(self):\n",
    "        print(\"Drawing Polygon\")\n",
    "\n",
    "class Rectangle(Polygon):\n",
    "    def draw(self):\n",
    "        print(\"Drawing Rectangle\")\n",
    "\n",
    "class Triangle(Polygon):\n",
    "    pass\n",
    "\n",
    "def demo():\n",
    "    circle = Circle()\n",
    "    circle.draw()\n",
    "    circle.clear()\n",
    "    \n",
    "    polygon = Polygon()\n",
    "    polygon.draw()\n",
    "    circle.clear()\n",
    "    \n",
    "    rect = Rectangle()\n",
    "    rect.draw()    \n",
    "    circle.clear()\n",
    "    \n",
    "    triangle = Triangle()\n",
    "    triangle.draw()   \n",
    "    circle.clear()\n",
    "    \n",
    "demo()"
   ]
  },
  {
   "cell_type": "code",
   "execution_count": null,
   "metadata": {
    "collapsed": true
   },
   "outputs": [],
   "source": []
  }
 ],
 "metadata": {
  "kernelspec": {
   "display_name": "Python 3",
   "language": "python",
   "name": "python3"
  },
  "language_info": {
   "codemirror_mode": {
    "name": "ipython",
    "version": 3
   },
   "file_extension": ".py",
   "mimetype": "text/x-python",
   "name": "python",
   "nbconvert_exporter": "python",
   "pygments_lexer": "ipython3",
   "version": "3.6.1"
  }
 },
 "nbformat": 4,
 "nbformat_minor": 2
}
