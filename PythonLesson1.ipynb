{
 "cells": [
  {
   "cell_type": "code",
   "execution_count": null,
   "metadata": {
    "collapsed": true
   },
   "outputs": [],
   "source": [
    "print(\"Hello World\")"
   ]
  },
  {
   "cell_type": "code",
   "execution_count": null,
   "metadata": {
    "collapsed": true
   },
   "outputs": [],
   "source": [
    "name = \"Anoop\"\n",
    "print(\"Hello\",name)"
   ]
  },
  {
   "cell_type": "code",
   "execution_count": null,
   "metadata": {
    "collapsed": true
   },
   "outputs": [],
   "source": [
    "1+1"
   ]
  },
  {
   "cell_type": "code",
   "execution_count": null,
   "metadata": {
    "collapsed": true
   },
   "outputs": [],
   "source": [
    "3*4"
   ]
  },
  {
   "cell_type": "code",
   "execution_count": null,
   "metadata": {
    "collapsed": true
   },
   "outputs": [],
   "source": [
    "4-5"
   ]
  },
  {
   "cell_type": "code",
   "execution_count": null,
   "metadata": {
    "collapsed": true
   },
   "outputs": [],
   "source": [
    "7 / 3"
   ]
  },
  {
   "cell_type": "code",
   "execution_count": null,
   "metadata": {
    "collapsed": true
   },
   "outputs": [],
   "source": [
    "4/2"
   ]
  },
  {
   "cell_type": "code",
   "execution_count": null,
   "metadata": {},
   "outputs": [],
   "source": [
    "7 // 2"
   ]
  },
  {
   "cell_type": "code",
   "execution_count": null,
   "metadata": {
    "collapsed": true
   },
   "outputs": [],
   "source": [
    "-3 * 3"
   ]
  },
  {
   "cell_type": "code",
   "execution_count": null,
   "metadata": {},
   "outputs": [],
   "source": [
    "hi = 9\n",
    "hi * hi"
   ]
  },
  {
   "cell_type": "code",
   "execution_count": null,
   "metadata": {},
   "outputs": [],
   "source": [
    "hi ** hi"
   ]
  },
  {
   "cell_type": "code",
   "execution_count": null,
   "metadata": {},
   "outputs": [],
   "source": [
    "15 % 9"
   ]
  },
  {
   "cell_type": "code",
   "execution_count": null,
   "metadata": {},
   "outputs": [],
   "source": [
    "-3 + 4 * 6"
   ]
  },
  {
   "cell_type": "code",
   "execution_count": null,
   "metadata": {
    "scrolled": true
   },
   "outputs": [],
   "source": [
    "1 == 2"
   ]
  },
  {
   "cell_type": "code",
   "execution_count": null,
   "metadata": {},
   "outputs": [],
   "source": [
    "6 != 7"
   ]
  },
  {
   "cell_type": "code",
   "execution_count": null,
   "metadata": {},
   "outputs": [],
   "source": [
    "7 > 9"
   ]
  },
  {
   "cell_type": "code",
   "execution_count": null,
   "metadata": {
    "scrolled": true
   },
   "outputs": [],
   "source": [
    "8 <= 6"
   ]
  },
  {
   "cell_type": "code",
   "execution_count": null,
   "metadata": {},
   "outputs": [],
   "source": [
    "90 <= 90"
   ]
  },
  {
   "cell_type": "code",
   "execution_count": null,
   "metadata": {},
   "outputs": [],
   "source": [
    "(6 > 4) and (4 > 2)"
   ]
  },
  {
   "cell_type": "code",
   "execution_count": null,
   "metadata": {},
   "outputs": [],
   "source": [
    "(5 <= 5) or (7 >= 9)"
   ]
  },
  {
   "cell_type": "code",
   "execution_count": null,
   "metadata": {},
   "outputs": [],
   "source": [
    "True and True"
   ]
  },
  {
   "cell_type": "code",
   "execution_count": null,
   "metadata": {},
   "outputs": [],
   "source": [
    "False and True"
   ]
  },
  {
   "cell_type": "code",
   "execution_count": null,
   "metadata": {},
   "outputs": [],
   "source": [
    "False and False"
   ]
  },
  {
   "cell_type": "code",
   "execution_count": null,
   "metadata": {},
   "outputs": [],
   "source": [
    "type(\"\")"
   ]
  },
  {
   "cell_type": "code",
   "execution_count": null,
   "metadata": {},
   "outputs": [],
   "source": [
    "type(2.0)"
   ]
  },
  {
   "cell_type": "code",
   "execution_count": null,
   "metadata": {},
   "outputs": [],
   "source": [
    "type(100)"
   ]
  },
  {
   "cell_type": "code",
   "execution_count": null,
   "metadata": {},
   "outputs": [],
   "source": [
    "type(())"
   ]
  },
  {
   "cell_type": "code",
   "execution_count": null,
   "metadata": {},
   "outputs": [],
   "source": [
    "type({})"
   ]
  },
  {
   "cell_type": "code",
   "execution_count": null,
   "metadata": {},
   "outputs": [],
   "source": [
    "type(1==2)"
   ]
  },
  {
   "cell_type": "code",
   "execution_count": null,
   "metadata": {},
   "outputs": [],
   "source": [
    "from math import pi\n",
    "\n",
    "r = 4\n",
    "\n",
    "print(\"Area of circle is\", round((pi*r**2),2))\n",
    "\n",
    "mypi = 22/7\n",
    "\n",
    "print(\"Area of circle is\", round((mypi*r**2),2))\n",
    "print(\"Circumference of circle is\", round((2*pi*r),2))\n",
    "print(\"Area of Sphere is\", round((4*mypi*r**2),2))\n",
    "print(\"Volume of Sphere is\", round(((4/3)*mypi*r**3),2))\n",
    "\n"
   ]
  },
  {
   "cell_type": "code",
   "execution_count": null,
   "metadata": {
    "collapsed": true
   },
   "outputs": [],
   "source": [
    "array = [4,5,6,7,8,0,2,3]\n",
    "\n",
    "print(array)\n",
    "\n",
    "print(array[1])\n",
    "\n",
    "print(array[0])\n",
    "\n",
    "print(len(array))\n",
    "\n",
    "# print from 1st to second last item\n",
    "print(array[0:-1])\n",
    "\n",
    "# print from 2nd to last to last item\n",
    "print(array[1:-2])\n",
    "\n",
    "# reverse\n",
    "print(array[::-1])\n",
    "\n",
    "# append value\n",
    "array.append(9)\n",
    "print(array)\n",
    "\n",
    "# sort an array\n",
    "array.sort()\n",
    "print(array)"
   ]
  },
  {
   "cell_type": "code",
   "execution_count": null,
   "metadata": {
    "collapsed": true
   },
   "outputs": [],
   "source": [
    "try:\n",
    "    marks = int(input(\"How many marks did you get?\"))\n",
    "\n",
    "    if marks >= 90:\n",
    "        print(\"Congrats you got A grade\")\n",
    "    elif marks > 79:\n",
    "        print(\"Congrats you got B grade\")\n",
    "    else:\n",
    "        print(\"Study hard!!\")\n",
    "except ValueError:\n",
    "    print(\"Please use Integers Only!\")"
   ]
  },
  {
   "cell_type": "code",
   "execution_count": null,
   "metadata": {},
   "outputs": [],
   "source": [
    "mydict = {\"Anoop\":\"San Jose\",\"John\":\"Santa Clara\",\"Sally\":\"Fremont\"}\n",
    "\n",
    "print(mydict.items())\n",
    "print(mydict.values())\n",
    "print(mydict.keys())\n"
   ]
  },
  {
   "cell_type": "code",
   "execution_count": null,
   "metadata": {
    "collapsed": true
   },
   "outputs": [],
   "source": [
    "# will take each value from the array, and square it\n",
    "for index in [1,3,4,5]:\n",
    "    print(index*index)"
   ]
  },
  {
   "cell_type": "code",
   "execution_count": null,
   "metadata": {},
   "outputs": [],
   "source": [
    "import random\n",
    "\n",
    "count = 0\n",
    "MAX = 10\n",
    "\n",
    "# produce a for loop which executes MAX times\n",
    "for index in range(0,MAX):\n",
    "    toss = random.randint(0,1) # give me 0 or 1\n",
    "    if(toss == 0):\n",
    "        count += 1\n",
    "print(\"Count tossed\", MAX, \"times. Number of times Heads\", count, \"and Tails\", MAX - count)"
   ]
  },
  {
   "cell_type": "code",
   "execution_count": null,
   "metadata": {
    "collapsed": true
   },
   "outputs": [],
   "source": [
    "import random\n",
    "\n",
    "secret = random.randint(0,10)\n",
    "attempts = 0\n",
    "\n",
    "while True:\n",
    "    try:\n",
    "        guess = int(input(\"Can you guess a number between 1 and 10?\"))\n",
    "        attempts = attempts + 1\n",
    "        if(guess == secret):\n",
    "            print(\"Congrats, you found me\", secret, \"in\", attempts, \"attempts\")\n",
    "            break\n",
    "        elif (guess > secret):\n",
    "            print(\"Too High\")\n",
    "        else:\n",
    "            print(\"Too Low\")\n",
    "    except ValueError:\n",
    "        print(\"Input must be a number\")"
   ]
  },
  {
   "cell_type": "code",
   "execution_count": null,
   "metadata": {
    "collapsed": true
   },
   "outputs": [],
   "source": [
    "def add(num1, num2):\n",
    "    return num1+num2\n",
    "\n",
    "def sub(num1, num2):\n",
    "    return num1-num2\n",
    "\n",
    "def mult(num1, num2):\n",
    "    return num1*num2\n",
    "\n",
    "def div(num1, num2):\n",
    "    return num1/num2\n",
    "\n",
    "def pow(num1, num2):\n",
    "    return num1**num2\n",
    "\n",
    "print(\"Add value of 2 and 3 is:\", add(2,3))\n",
    "print(\"Subtract value of 2 and 3 is:\", sub(2,3))\n",
    "print(\"Multiplication value of 2 and 3 is:\", mult(2,3))\n",
    "print(\"Division value of 2 and 3 is:\", round(div(2,3),2))\n",
    "print(\"Power value of 2 and 3 is:\", pow(2,3))\n"
   ]
  },
  {
   "cell_type": "code",
   "execution_count": null,
   "metadata": {
    "collapsed": true
   },
   "outputs": [],
   "source": [
    "import random\n",
    "\n",
    "cities = (\"San Francisco\", \"Dallas\", \"Chicago\")\n",
    "\n",
    "transit = {\n",
    "    \"San Francisco\" : (\"Chicago\",),\n",
    "    \"Chicago\" : (\"Dallas\",),\n",
    "    \"Dallas\" : (\"San Francisco\", \"Chicago\",),\n",
    "}\n",
    "\n",
    "city = random.choice(cities)\n",
    "\n",
    "while True:\n",
    "    print(\"You are currently in\", city)\n",
    "    routes = transit[city]\n",
    "    print(\"From here you can travel to\", ', '.join(routes))\n",
    "    newroute = input(\"Where would you like to go today? \")\n",
    "\n",
    "    if(newroute == \"quit\"):\n",
    "        print(\"Thank you for playing\")\n",
    "        break\n",
    "    elif(newroute in routes):\n",
    "        city = newroute\n",
    "    else:\n",
    "        print(\"You cannot travel there, please try again!\")"
   ]
  },
  {
   "cell_type": "code",
   "execution_count": null,
   "metadata": {
    "collapsed": true
   },
   "outputs": [],
   "source": [
    "def isPrime(num):\n",
    "\n",
    "    flag = True\n",
    "    min = 2\n",
    "\n",
    "    while(min != num):\n",
    "\n",
    "        if(num % min == 0):\n",
    "            flag = False\n",
    "            break\n",
    "        min = min + 1\n",
    "\n",
    "    if(flag == True ):\n",
    "        print(num, \"is Prime\")\n",
    "    else:\n",
    "        print(num, \"is Not Prime\")\n",
    "\n",
    "while True:\n",
    "    try:\n",
    "        num = int(input(\"What number would like to check is prime? \"))\n",
    "\n",
    "        if(num < 2):\n",
    "            print(\"Prime numbers are greater than 2, try again!\")\n",
    "\n",
    "        else:\n",
    "            isPrime(num)\n",
    "\n",
    "    except ValueError:\n",
    "        print(\"Please input valid integer\")"
   ]
  },
  {
   "cell_type": "code",
   "execution_count": null,
   "metadata": {
    "collapsed": true
   },
   "outputs": [],
   "source": [
    "#a list is something of a constant, you cannot change\n",
    "\n",
    "list = (\"Apple\", \"Oranges\", \"Grapes\")\n",
    "\n",
    "print(list)\n",
    "\n",
    "#not possible to append or insert items into a list\n",
    "#list.append(\"Strawberries\")\n",
    "\n",
    "#just like arrays, you can extract list content\n",
    "\n",
    "print(list[0])\n",
    "print(list[0:2])\n"
   ]
  },
  {
   "cell_type": "code",
   "execution_count": null,
   "metadata": {
    "collapsed": true
   },
   "outputs": [],
   "source": [
    "import turtle\n",
    "\n",
    "win = turtle.Screen()\n",
    "win.bgcolor(\"LightGreen\")\n",
    "win.title(\"Hello Turtle\")\n",
    "\n",
    "t = turtle.Turtle()\n",
    "t.speed(5)\n",
    "\n",
    "for index in range(4):\n",
    "    t.forward(100)\n",
    "    t.right(90)\n",
    "\n",
    "win.mainloop()\n"
   ]
  },
  {
   "cell_type": "code",
   "execution_count": null,
   "metadata": {
    "collapsed": true
   },
   "outputs": [],
   "source": [
    "import turtle, time\n",
    "\n",
    "\n",
    "win = turtle.Screen()\n",
    "win.title(\"Hi\")\n",
    "win.bgcolor(\"black\")\n",
    "\n",
    "spiral = turtle.Turtle()\n",
    "\n",
    "while True:\n",
    "\n",
    "    spiral.reset()\n",
    "    spiral.pencolor(\"green\")\n",
    "\n",
    "    for i in range(40):\n",
    "        spiral.forward(i * 10)\n",
    "        spiral.right(144)\n",
    "\n",
    "    time.sleep(3)\n",
    "\n",
    "win.mainloop()"
   ]
  },
  {
   "cell_type": "code",
   "execution_count": null,
   "metadata": {
    "collapsed": true
   },
   "outputs": [],
   "source": [
    "import turtle, time\n",
    "\n",
    "win = turtle.Screen()\n",
    "win.title(\"Hi\")\n",
    "win.bgcolor(\"black\")\n",
    "\n",
    "ninja = turtle.Turtle()\n",
    "\n",
    "ninja.speed(10)\n",
    "ninja.pencolor(\"red\")\n",
    "\n",
    "for i in range(180):\n",
    "    ninja.forward(100)\n",
    "    ninja.right(30)\n",
    "    ninja.forward(20)\n",
    "    ninja.left(60)\n",
    "    ninja.forward(50)\n",
    "    ninja.right(30)\n",
    "\n",
    "    ninja.penup()\n",
    "    ninja.setposition(0, 0)\n",
    "    ninja.pendown()\n",
    "\n",
    "    ninja.right(2)\n",
    "\n",
    "win.mainloop()"
   ]
  },
  {
   "cell_type": "code",
   "execution_count": null,
   "metadata": {
    "collapsed": true
   },
   "outputs": [],
   "source": [
    "import turtle, time\n",
    "\n",
    "\n",
    "win = turtle.Screen()\n",
    "win.title(\"Hi\")\n",
    "win.bgcolor(\"black\")\n",
    "\n",
    "flower = turtle.Turtle()\n",
    "\n",
    "while True:\n",
    "\n",
    "    flower.reset()\n",
    "    flower.pencolor(\"red\")\n",
    "\n",
    "    for angle in range(0, 360, 15):\n",
    "        flower.seth(angle)\n",
    "        flower.circle(100)\n",
    "        print(angle)\n",
    "\n",
    "    time.sleep(3)\n",
    "\n",
    "win.mainloop()"
   ]
  }
 ],
 "metadata": {
  "kernelspec": {
   "display_name": "Python 3",
   "language": "python",
   "name": "python3"
  },
  "language_info": {
   "codemirror_mode": {
    "name": "ipython",
    "version": 3
   },
   "file_extension": ".py",
   "mimetype": "text/x-python",
   "name": "python",
   "nbconvert_exporter": "python",
   "pygments_lexer": "ipython3",
   "version": "3.6.1"
  }
 },
 "nbformat": 4,
 "nbformat_minor": 2
}
