{
 "cells": [
  {
   "cell_type": "code",
   "execution_count": 6,
   "metadata": {},
   "outputs": [
    {
     "name": "stdout",
     "output_type": "stream",
     "text": [
      "1 8 9 2\n",
      "72\n"
     ]
    }
   ],
   "source": [
    "# John thinks about a four digit number which is less than 2000. The ones and hundreds are even numbers. \n",
    "# The sum of four numbers is 20. The number at ones place is twice the thousands place.\n",
    "# Can you guess the number?\n",
    "# O E O E\n",
    "\n",
    "mylist = [0,1,2,3,4,5,6,7,8,9] # list of possible numbers\n",
    "MAX = 10 # total number, you can also do len(mylist), just to keep it easy\n",
    "total = 20 # sum total per condition\n",
    "\n",
    "for index in mylist:\n",
    "    if(mylist[index] > 0): #skip zero \n",
    "        count = 2 # start the count at 2nd place for comparision\n",
    "        while count < MAX: # less than 10\n",
    "            # check for ones twice than thousands, odd/even, and less than 2 (because number cannot be more than 2000)\n",
    "            if((mylist[count] == 2*mylist[index]) and (mylist[index] % 2 != 0) and (mylist[count] % 2 == 0) and (mylist[index] < 2)):\n",
    "                thousand_place = mylist[index]\n",
    "                ones_place = mylist[count]\n",
    "                remaining = total - thousand_place - ones_place\n",
    "            # check for remaining sum and even number        \n",
    "            if((mylist[count] + mylist[index] == remaining) and (mylist[count] % 2 == 0)):\n",
    "                hundred_place = mylist[count]\n",
    "                tens_place = mylist[index]\n",
    "            count += 1 # increase comparision count\n",
    "            iterations += 1\n",
    "\n",
    "# display the final number\n",
    "print(thousand_place,hundred_place,tens_place,ones_place)"
   ]
  },
  {
   "cell_type": "code",
   "execution_count": null,
   "metadata": {
    "collapsed": true
   },
   "outputs": [],
   "source": []
  }
 ],
 "metadata": {
  "kernelspec": {
   "display_name": "Python 3",
   "language": "python",
   "name": "python3"
  },
  "language_info": {
   "codemirror_mode": {
    "name": "ipython",
    "version": 3
   },
   "file_extension": ".py",
   "mimetype": "text/x-python",
   "name": "python",
   "nbconvert_exporter": "python",
   "pygments_lexer": "ipython3",
   "version": "3.6.1"
  }
 },
 "nbformat": 4,
 "nbformat_minor": 2
}
