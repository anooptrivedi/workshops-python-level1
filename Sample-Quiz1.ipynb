{
 "cells": [
  {
   "cell_type": "code",
   "execution_count": 11,
   "metadata": {},
   "outputs": [
    {
     "name": "stdout",
     "output_type": "stream",
     "text": [
      "1 8 9 2\n"
     ]
    }
   ],
   "source": [
    "# John thinks about a four digit number which is less than 2000. The ones and hundreds are even numbers. \n",
    "# The sum of four numbers is 20. Can you guess the number?\n",
    "# O E O E\n",
    "\n",
    "mylist = [0,1,2,3,4,5,6,7,8,9]\n",
    "MAX = 10\n",
    "total = 20\n",
    "\n",
    "for index in mylist:\n",
    "    if(mylist[index] > 0):\n",
    "        count = 2\n",
    "        while count < MAX:\n",
    "            if(mylist[count] == 2*mylist[index]):\n",
    "                if((mylist[index] % 2 != 0) and (mylist[count] % 2 == 0)):\n",
    "                    if(mylist[index] < 2):\n",
    "                        thousand_place = mylist[index]\n",
    "                        ones_place = mylist[count]\n",
    "                        remaining = total - thousand_place - ones_place\n",
    "                    \n",
    "            if(mylist[count] + mylist[index] == remaining):\n",
    "                if(mylist[count] % 2 == 0):\n",
    "                    hundred_place = mylist[count]\n",
    "                    tens_place = mylist[index]\n",
    "            count += 1\n",
    "\n",
    "print(thousand_place,hundred_place,tens_place,ones_place)"
   ]
  },
  {
   "cell_type": "code",
   "execution_count": null,
   "metadata": {
    "collapsed": true
   },
   "outputs": [],
   "source": []
  },
  {
   "cell_type": "code",
   "execution_count": null,
   "metadata": {
    "collapsed": true
   },
   "outputs": [],
   "source": []
  }
 ],
 "metadata": {
  "kernelspec": {
   "display_name": "Python 3",
   "language": "python",
   "name": "python3"
  },
  "language_info": {
   "codemirror_mode": {
    "name": "ipython",
    "version": 3
   },
   "file_extension": ".py",
   "mimetype": "text/x-python",
   "name": "python",
   "nbconvert_exporter": "python",
   "pygments_lexer": "ipython3",
   "version": "3.6.1"
  }
 },
 "nbformat": 4,
 "nbformat_minor": 2
}
